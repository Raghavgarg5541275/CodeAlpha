{
 "cells": [
  {
   "cell_type": "code",
   "execution_count": 24,
   "id": "9e656591",
   "metadata": {
    "scrolled": true
   },
   "outputs": [],
   "source": [
    "import pandas as pd\n",
    "import numpy as np\n",
    "from sklearn.impute import SimpleImputer\n",
    "from sklearn.model_selection import train_test_split\n",
    "from sklearn.preprocessing import StandardScaler, LabelEncoder, OneHotEncoder\n",
    "from sklearn.ensemble import RandomForestClassifier\n",
    "from sklearn.compose import ColumnTransformer\n",
    "from sklearn.pipeline import Pipeline\n",
    "from sklearn.metrics import accuracy_score, classification_report\n",
    "import time"
   ]
  },
  {
   "cell_type": "code",
   "execution_count": 25,
   "id": "9679ea51",
   "metadata": {},
   "outputs": [
    {
     "name": "stdout",
     "output_type": "stream",
     "text": [
      "Loading datasets...\n",
      "Loading of Dataset Completed!!\n"
     ]
    }
   ],
   "source": [
    "print(\"Loading datasets...\")\n",
    "train_df = pd.read_csv('train.csv', low_memory=False)\n",
    "test_df = pd.read_csv('test.csv', low_memory=False)\n",
    "print(\"Loading of Dataset Completed!!\")"
   ]
  },
  {
   "cell_type": "code",
   "execution_count": 26,
   "id": "e858f467",
   "metadata": {},
   "outputs": [],
   "source": [
    "def clean_data(df):\n",
    "    print(\"Cleaning data...\")\n",
    "    if 'Age' in df.columns:\n",
    "        df['Age'] = pd.to_numeric(df['Age'], errors='coerce')\n",
    "        df['Age'] = df['Age'].apply(lambda x: np.nan if x < 0 else x)\n",
    "    \n",
    "    if 'Credit_History_Age' in df.columns:\n",
    "        df['Credit_History_Age'] = df['Credit_History_Age'].astype(str).str.extract(r'(\\d+)')[0].astype(float)\n",
    "        df['Credit_History_Age'].fillna(df['Credit_History_Age'].mode()[0], inplace=True)\n",
    "    \n",
    "    numeric_cols = df.select_dtypes(include=[np.number]).columns\n",
    "    imputer = SimpleImputer(strategy='mean')\n",
    "    df[numeric_cols] = imputer.fit_transform(df[numeric_cols])\n",
    "    \n",
    "    unnecessary_cols = ['ID', 'Name', 'SSN', 'Customer_ID', 'Month']\n",
    "    df.drop(columns=[col for col in unnecessary_cols if col in df.columns], inplace=True)\n",
    "    \n",
    "    return df\n"
   ]
  },
  {
   "cell_type": "code",
   "execution_count": 27,
   "id": "4b3b6737",
   "metadata": {},
   "outputs": [
    {
     "name": "stdout",
     "output_type": "stream",
     "text": [
      "Cleaning data...\n",
      "Cleaning of Training Dataset Completed!!\n",
      "Cleaning data...\n",
      "Cleaning of Testing Dataset Completed!!\n"
     ]
    }
   ],
   "source": [
    "train_df = clean_data(train_df)\n",
    "print(\"Cleaning of Training Dataset Completed!!\")\n",
    "test_df = clean_data(test_df)\n",
    "print(\"Cleaning of Testing Dataset Completed!!\")"
   ]
  },
  {
   "cell_type": "code",
   "execution_count": 28,
   "id": "20d55129",
   "metadata": {},
   "outputs": [],
   "source": [
    "test_df = test_df[train_df.columns.drop('Credit_Score')]"
   ]
  },
  {
   "cell_type": "code",
   "execution_count": 29,
   "id": "6000b426",
   "metadata": {},
   "outputs": [],
   "source": [
    "X = train_df.drop(columns=['Credit_Score'])\n",
    "y = train_df['Credit_Score']"
   ]
  },
  {
   "cell_type": "code",
   "execution_count": 30,
   "id": "eb1a5d19",
   "metadata": {},
   "outputs": [],
   "source": [
    "label_encoder = LabelEncoder()\n",
    "y = label_encoder.fit_transform(y)"
   ]
  },
  {
   "cell_type": "code",
   "execution_count": 31,
   "id": "db6bac53",
   "metadata": {},
   "outputs": [],
   "source": [
    "categorical_cols = X.select_dtypes(include=['object']).columns\n",
    "numeric_cols = X.select_dtypes(include=[np.number]).columns"
   ]
  },
  {
   "cell_type": "code",
   "execution_count": 32,
   "id": "4f777c56",
   "metadata": {},
   "outputs": [],
   "source": [
    "numeric_transformer = Pipeline(steps=[\n",
    "    ('imputer', SimpleImputer(strategy='mean')),\n",
    "    ('scaler', StandardScaler())])\n",
    "\n",
    "categorical_transformer = Pipeline(steps=[\n",
    "    ('imputer', SimpleImputer(strategy='most_frequent')),\n",
    "    ('onehot', OneHotEncoder(handle_unknown='ignore'))])"
   ]
  },
  {
   "cell_type": "code",
   "execution_count": 33,
   "id": "26a5119d",
   "metadata": {},
   "outputs": [],
   "source": [
    "preprocessor = ColumnTransformer(\n",
    "    transformers=[\n",
    "        ('num', numeric_transformer, numeric_cols),\n",
    "        ('cat', categorical_transformer, categorical_cols)])"
   ]
  },
  {
   "cell_type": "code",
   "execution_count": 34,
   "id": "da03affa",
   "metadata": {},
   "outputs": [
    {
     "name": "stdout",
     "output_type": "stream",
     "text": [
      "Splitting data into training and validation sets...\n",
      "Done with Splitting data into training and validation sets!!\n",
      "Training the model...\n",
      "Model training completed.\n",
      "Model Training Time: 500.34860825538635 seconds\n"
     ]
    }
   ],
   "source": [
    "model = Pipeline(steps=[\n",
    "    ('preprocessor', preprocessor),\n",
    "    ('classifier', RandomForestClassifier(n_estimators=100, random_state=42))])\n",
    "\n",
    "print(\"Splitting data into training and validation sets...\")\n",
    "X_train, X_val, y_train, y_val = train_test_split(X, y, test_size=0.2, random_state=42)\n",
    "print(\"Done with Splitting data into training and validation sets!!\")\n",
    "\n",
    "print(\"Training the model...\")\n",
    "start_time = time.time()\n",
    "model.fit(X_train, y_train)\n",
    "end_time = time.time()\n",
    "\n",
    "print(\"Model training completed.\")\n",
    "print(f\"Model Training Time: {end_time - start_time} seconds\")"
   ]
  },
  {
   "cell_type": "code",
   "execution_count": 35,
   "id": "684a3cd0",
   "metadata": {},
   "outputs": [
    {
     "name": "stdout",
     "output_type": "stream",
     "text": [
      "Predicting on validation set...\n"
     ]
    }
   ],
   "source": [
    "print(\"Predicting on validation set...\")\n",
    "y_pred = model.predict(X_val)"
   ]
  },
  {
   "cell_type": "code",
   "execution_count": 36,
   "id": "78260d31",
   "metadata": {},
   "outputs": [
    {
     "name": "stdout",
     "output_type": "stream",
     "text": [
      "Validation Accuracy: 0.77385\n",
      "Classification Report:\n",
      "              precision    recall  f1-score   support\n",
      "\n",
      "        Good       0.76      0.69      0.72      3527\n",
      "        Poor       0.76      0.77      0.77      5874\n",
      "    Standard       0.78      0.80      0.79     10599\n",
      "\n",
      "    accuracy                           0.77     20000\n",
      "   macro avg       0.77      0.75      0.76     20000\n",
      "weighted avg       0.77      0.77      0.77     20000\n",
      "\n"
     ]
    }
   ],
   "source": [
    "accuracy = accuracy_score(y_val, y_pred)\n",
    "report = classification_report(y_val, y_pred, target_names=label_encoder.classes_)\n",
    "\n",
    "print(f\"Validation Accuracy: {accuracy}\")\n",
    "print(\"Classification Report:\")\n",
    "print(report)"
   ]
  },
  {
   "cell_type": "code",
   "execution_count": 37,
   "id": "cb410797",
   "metadata": {},
   "outputs": [
    {
     "name": "stdout",
     "output_type": "stream",
     "text": [
      "Predicting on test set...\n"
     ]
    }
   ],
   "source": [
    "print(\"Predicting on test set...\")\n",
    "test_predictions = model.predict(test_df)"
   ]
  },
  {
   "cell_type": "code",
   "execution_count": 38,
   "id": "d6864f4d",
   "metadata": {},
   "outputs": [],
   "source": [
    "test_predictions = label_encoder.inverse_transform(test_predictions)"
   ]
  },
  {
   "cell_type": "code",
   "execution_count": 39,
   "id": "883dcf60",
   "metadata": {},
   "outputs": [],
   "source": [
    "test_df_with_ids = pd.read_csv('test.csv', usecols=['ID'])\n",
    "test_results = pd.DataFrame({\n",
    "    'ID': test_df_with_ids['ID'],  \n",
    "    'Credit_Score': test_predictions\n",
    "})"
   ]
  },
  {
   "cell_type": "code",
   "execution_count": 40,
   "id": "dea688c4",
   "metadata": {},
   "outputs": [
    {
     "name": "stdout",
     "output_type": "stream",
     "text": [
      "Saving results to CSV file...\n",
      "Results saved successfully.\n"
     ]
    }
   ],
   "source": [
    "print(\"Saving results to CSV file...\")\n",
    "test_results.to_csv('test_predictions.csv', index=False)\n",
    "print(\"Results saved successfully.\")"
   ]
  },
  {
   "cell_type": "code",
   "execution_count": 41,
   "id": "59f06b7b",
   "metadata": {},
   "outputs": [
    {
     "data": {
      "text/html": [
       "<style>#sk-162772e6-65e6-433b-a9fe-d33d006149c4 {color: black;background-color: white;}#sk-162772e6-65e6-433b-a9fe-d33d006149c4 pre{padding: 0;}#sk-162772e6-65e6-433b-a9fe-d33d006149c4 div.sk-toggleable {background-color: white;}#sk-162772e6-65e6-433b-a9fe-d33d006149c4 label.sk-toggleable__label {cursor: pointer;display: block;width: 100%;margin-bottom: 0;padding: 0.3em;box-sizing: border-box;text-align: center;}#sk-162772e6-65e6-433b-a9fe-d33d006149c4 label.sk-toggleable__label-arrow:before {content: \"▸\";float: left;margin-right: 0.25em;color: #696969;}#sk-162772e6-65e6-433b-a9fe-d33d006149c4 label.sk-toggleable__label-arrow:hover:before {color: black;}#sk-162772e6-65e6-433b-a9fe-d33d006149c4 div.sk-estimator:hover label.sk-toggleable__label-arrow:before {color: black;}#sk-162772e6-65e6-433b-a9fe-d33d006149c4 div.sk-toggleable__content {max-height: 0;max-width: 0;overflow: hidden;text-align: left;background-color: #f0f8ff;}#sk-162772e6-65e6-433b-a9fe-d33d006149c4 div.sk-toggleable__content pre {margin: 0.2em;color: black;border-radius: 0.25em;background-color: #f0f8ff;}#sk-162772e6-65e6-433b-a9fe-d33d006149c4 input.sk-toggleable__control:checked~div.sk-toggleable__content {max-height: 200px;max-width: 100%;overflow: auto;}#sk-162772e6-65e6-433b-a9fe-d33d006149c4 input.sk-toggleable__control:checked~label.sk-toggleable__label-arrow:before {content: \"▾\";}#sk-162772e6-65e6-433b-a9fe-d33d006149c4 div.sk-estimator input.sk-toggleable__control:checked~label.sk-toggleable__label {background-color: #d4ebff;}#sk-162772e6-65e6-433b-a9fe-d33d006149c4 div.sk-label input.sk-toggleable__control:checked~label.sk-toggleable__label {background-color: #d4ebff;}#sk-162772e6-65e6-433b-a9fe-d33d006149c4 input.sk-hidden--visually {border: 0;clip: rect(1px 1px 1px 1px);clip: rect(1px, 1px, 1px, 1px);height: 1px;margin: -1px;overflow: hidden;padding: 0;position: absolute;width: 1px;}#sk-162772e6-65e6-433b-a9fe-d33d006149c4 div.sk-estimator {font-family: monospace;background-color: #f0f8ff;border: 1px dotted black;border-radius: 0.25em;box-sizing: border-box;margin-bottom: 0.5em;}#sk-162772e6-65e6-433b-a9fe-d33d006149c4 div.sk-estimator:hover {background-color: #d4ebff;}#sk-162772e6-65e6-433b-a9fe-d33d006149c4 div.sk-parallel-item::after {content: \"\";width: 100%;border-bottom: 1px solid gray;flex-grow: 1;}#sk-162772e6-65e6-433b-a9fe-d33d006149c4 div.sk-label:hover label.sk-toggleable__label {background-color: #d4ebff;}#sk-162772e6-65e6-433b-a9fe-d33d006149c4 div.sk-serial::before {content: \"\";position: absolute;border-left: 1px solid gray;box-sizing: border-box;top: 2em;bottom: 0;left: 50%;}#sk-162772e6-65e6-433b-a9fe-d33d006149c4 div.sk-serial {display: flex;flex-direction: column;align-items: center;background-color: white;padding-right: 0.2em;padding-left: 0.2em;}#sk-162772e6-65e6-433b-a9fe-d33d006149c4 div.sk-item {z-index: 1;}#sk-162772e6-65e6-433b-a9fe-d33d006149c4 div.sk-parallel {display: flex;align-items: stretch;justify-content: center;background-color: white;}#sk-162772e6-65e6-433b-a9fe-d33d006149c4 div.sk-parallel::before {content: \"\";position: absolute;border-left: 1px solid gray;box-sizing: border-box;top: 2em;bottom: 0;left: 50%;}#sk-162772e6-65e6-433b-a9fe-d33d006149c4 div.sk-parallel-item {display: flex;flex-direction: column;position: relative;background-color: white;}#sk-162772e6-65e6-433b-a9fe-d33d006149c4 div.sk-parallel-item:first-child::after {align-self: flex-end;width: 50%;}#sk-162772e6-65e6-433b-a9fe-d33d006149c4 div.sk-parallel-item:last-child::after {align-self: flex-start;width: 50%;}#sk-162772e6-65e6-433b-a9fe-d33d006149c4 div.sk-parallel-item:only-child::after {width: 0;}#sk-162772e6-65e6-433b-a9fe-d33d006149c4 div.sk-dashed-wrapped {border: 1px dashed gray;margin: 0 0.4em 0.5em 0.4em;box-sizing: border-box;padding-bottom: 0.4em;background-color: white;position: relative;}#sk-162772e6-65e6-433b-a9fe-d33d006149c4 div.sk-label label {font-family: monospace;font-weight: bold;background-color: white;display: inline-block;line-height: 1.2em;}#sk-162772e6-65e6-433b-a9fe-d33d006149c4 div.sk-label-container {position: relative;z-index: 2;text-align: center;}#sk-162772e6-65e6-433b-a9fe-d33d006149c4 div.sk-container {/* jupyter's `normalize.less` sets `[hidden] { display: none; }` but bootstrap.min.css set `[hidden] { display: none !important; }` so we also need the `!important` here to be able to override the default hidden behavior on the sphinx rendered scikit-learn.org. See: https://github.com/scikit-learn/scikit-learn/issues/21755 */display: inline-block !important;position: relative;}#sk-162772e6-65e6-433b-a9fe-d33d006149c4 div.sk-text-repr-fallback {display: none;}</style><div id=\"sk-162772e6-65e6-433b-a9fe-d33d006149c4\" class=\"sk-top-container\"><div class=\"sk-text-repr-fallback\"><pre>Pipeline(steps=[(&#x27;preprocessor&#x27;,\n",
       "                 ColumnTransformer(transformers=[(&#x27;num&#x27;,\n",
       "                                                  Pipeline(steps=[(&#x27;imputer&#x27;,\n",
       "                                                                   SimpleImputer()),\n",
       "                                                                  (&#x27;scaler&#x27;,\n",
       "                                                                   StandardScaler())]),\n",
       "                                                  Index([&#x27;Age&#x27;, &#x27;Monthly_Inhand_Salary&#x27;, &#x27;Num_Bank_Accounts&#x27;, &#x27;Num_Credit_Card&#x27;,\n",
       "       &#x27;Interest_Rate&#x27;, &#x27;Delay_from_due_date&#x27;, &#x27;Num_Credit_Inquiries&#x27;,\n",
       "       &#x27;Credit_Utilization_Ratio&#x27;, &#x27;Credit_History_Age&#x27;,\n",
       "       &#x27;Total_EMI_per_month&#x27;...\n",
       "                                                                   OneHotEncoder(handle_unknown=&#x27;ignore&#x27;))]),\n",
       "                                                  Index([&#x27;Occupation&#x27;, &#x27;Annual_Income&#x27;, &#x27;Num_of_Loan&#x27;, &#x27;Type_of_Loan&#x27;,\n",
       "       &#x27;Num_of_Delayed_Payment&#x27;, &#x27;Changed_Credit_Limit&#x27;, &#x27;Credit_Mix&#x27;,\n",
       "       &#x27;Outstanding_Debt&#x27;, &#x27;Payment_of_Min_Amount&#x27;, &#x27;Amount_invested_monthly&#x27;,\n",
       "       &#x27;Payment_Behaviour&#x27;, &#x27;Monthly_Balance&#x27;],\n",
       "      dtype=&#x27;object&#x27;))])),\n",
       "                (&#x27;classifier&#x27;, RandomForestClassifier(random_state=42))])</pre><b>Please rerun this cell to show the HTML repr or trust the notebook.</b></div><div class=\"sk-container\" hidden><div class=\"sk-item sk-dashed-wrapped\"><div class=\"sk-label-container\"><div class=\"sk-label sk-toggleable\"><input class=\"sk-toggleable__control sk-hidden--visually\" id=\"cf82c789-648a-401c-aa06-dbd6aeace008\" type=\"checkbox\" ><label for=\"cf82c789-648a-401c-aa06-dbd6aeace008\" class=\"sk-toggleable__label sk-toggleable__label-arrow\">Pipeline</label><div class=\"sk-toggleable__content\"><pre>Pipeline(steps=[(&#x27;preprocessor&#x27;,\n",
       "                 ColumnTransformer(transformers=[(&#x27;num&#x27;,\n",
       "                                                  Pipeline(steps=[(&#x27;imputer&#x27;,\n",
       "                                                                   SimpleImputer()),\n",
       "                                                                  (&#x27;scaler&#x27;,\n",
       "                                                                   StandardScaler())]),\n",
       "                                                  Index([&#x27;Age&#x27;, &#x27;Monthly_Inhand_Salary&#x27;, &#x27;Num_Bank_Accounts&#x27;, &#x27;Num_Credit_Card&#x27;,\n",
       "       &#x27;Interest_Rate&#x27;, &#x27;Delay_from_due_date&#x27;, &#x27;Num_Credit_Inquiries&#x27;,\n",
       "       &#x27;Credit_Utilization_Ratio&#x27;, &#x27;Credit_History_Age&#x27;,\n",
       "       &#x27;Total_EMI_per_month&#x27;...\n",
       "                                                                   OneHotEncoder(handle_unknown=&#x27;ignore&#x27;))]),\n",
       "                                                  Index([&#x27;Occupation&#x27;, &#x27;Annual_Income&#x27;, &#x27;Num_of_Loan&#x27;, &#x27;Type_of_Loan&#x27;,\n",
       "       &#x27;Num_of_Delayed_Payment&#x27;, &#x27;Changed_Credit_Limit&#x27;, &#x27;Credit_Mix&#x27;,\n",
       "       &#x27;Outstanding_Debt&#x27;, &#x27;Payment_of_Min_Amount&#x27;, &#x27;Amount_invested_monthly&#x27;,\n",
       "       &#x27;Payment_Behaviour&#x27;, &#x27;Monthly_Balance&#x27;],\n",
       "      dtype=&#x27;object&#x27;))])),\n",
       "                (&#x27;classifier&#x27;, RandomForestClassifier(random_state=42))])</pre></div></div></div><div class=\"sk-serial\"><div class=\"sk-item sk-dashed-wrapped\"><div class=\"sk-label-container\"><div class=\"sk-label sk-toggleable\"><input class=\"sk-toggleable__control sk-hidden--visually\" id=\"403c0ceb-b3ff-4034-be5a-a238ae4dbf6c\" type=\"checkbox\" ><label for=\"403c0ceb-b3ff-4034-be5a-a238ae4dbf6c\" class=\"sk-toggleable__label sk-toggleable__label-arrow\">preprocessor: ColumnTransformer</label><div class=\"sk-toggleable__content\"><pre>ColumnTransformer(transformers=[(&#x27;num&#x27;,\n",
       "                                 Pipeline(steps=[(&#x27;imputer&#x27;, SimpleImputer()),\n",
       "                                                 (&#x27;scaler&#x27;, StandardScaler())]),\n",
       "                                 Index([&#x27;Age&#x27;, &#x27;Monthly_Inhand_Salary&#x27;, &#x27;Num_Bank_Accounts&#x27;, &#x27;Num_Credit_Card&#x27;,\n",
       "       &#x27;Interest_Rate&#x27;, &#x27;Delay_from_due_date&#x27;, &#x27;Num_Credit_Inquiries&#x27;,\n",
       "       &#x27;Credit_Utilization_Ratio&#x27;, &#x27;Credit_History_Age&#x27;,\n",
       "       &#x27;Total_EMI_per_month&#x27;],\n",
       "      dtype=&#x27;object&#x27;)),\n",
       "                                (&#x27;cat&#x27;,\n",
       "                                 Pipeli...ter&#x27;,\n",
       "                                                  SimpleImputer(strategy=&#x27;most_frequent&#x27;)),\n",
       "                                                 (&#x27;onehot&#x27;,\n",
       "                                                  OneHotEncoder(handle_unknown=&#x27;ignore&#x27;))]),\n",
       "                                 Index([&#x27;Occupation&#x27;, &#x27;Annual_Income&#x27;, &#x27;Num_of_Loan&#x27;, &#x27;Type_of_Loan&#x27;,\n",
       "       &#x27;Num_of_Delayed_Payment&#x27;, &#x27;Changed_Credit_Limit&#x27;, &#x27;Credit_Mix&#x27;,\n",
       "       &#x27;Outstanding_Debt&#x27;, &#x27;Payment_of_Min_Amount&#x27;, &#x27;Amount_invested_monthly&#x27;,\n",
       "       &#x27;Payment_Behaviour&#x27;, &#x27;Monthly_Balance&#x27;],\n",
       "      dtype=&#x27;object&#x27;))])</pre></div></div></div><div class=\"sk-parallel\"><div class=\"sk-parallel-item\"><div class=\"sk-item\"><div class=\"sk-label-container\"><div class=\"sk-label sk-toggleable\"><input class=\"sk-toggleable__control sk-hidden--visually\" id=\"6ce6ebf5-ce01-4487-b4e6-11a276675f9d\" type=\"checkbox\" ><label for=\"6ce6ebf5-ce01-4487-b4e6-11a276675f9d\" class=\"sk-toggleable__label sk-toggleable__label-arrow\">num</label><div class=\"sk-toggleable__content\"><pre>Index([&#x27;Age&#x27;, &#x27;Monthly_Inhand_Salary&#x27;, &#x27;Num_Bank_Accounts&#x27;, &#x27;Num_Credit_Card&#x27;,\n",
       "       &#x27;Interest_Rate&#x27;, &#x27;Delay_from_due_date&#x27;, &#x27;Num_Credit_Inquiries&#x27;,\n",
       "       &#x27;Credit_Utilization_Ratio&#x27;, &#x27;Credit_History_Age&#x27;,\n",
       "       &#x27;Total_EMI_per_month&#x27;],\n",
       "      dtype=&#x27;object&#x27;)</pre></div></div></div><div class=\"sk-serial\"><div class=\"sk-item\"><div class=\"sk-serial\"><div class=\"sk-item\"><div class=\"sk-estimator sk-toggleable\"><input class=\"sk-toggleable__control sk-hidden--visually\" id=\"c26fcbeb-84e4-43f5-ba9e-e72662a4fa22\" type=\"checkbox\" ><label for=\"c26fcbeb-84e4-43f5-ba9e-e72662a4fa22\" class=\"sk-toggleable__label sk-toggleable__label-arrow\">SimpleImputer</label><div class=\"sk-toggleable__content\"><pre>SimpleImputer()</pre></div></div></div><div class=\"sk-item\"><div class=\"sk-estimator sk-toggleable\"><input class=\"sk-toggleable__control sk-hidden--visually\" id=\"eb554504-cefa-4c97-85d0-884c022263f4\" type=\"checkbox\" ><label for=\"eb554504-cefa-4c97-85d0-884c022263f4\" class=\"sk-toggleable__label sk-toggleable__label-arrow\">StandardScaler</label><div class=\"sk-toggleable__content\"><pre>StandardScaler()</pre></div></div></div></div></div></div></div></div><div class=\"sk-parallel-item\"><div class=\"sk-item\"><div class=\"sk-label-container\"><div class=\"sk-label sk-toggleable\"><input class=\"sk-toggleable__control sk-hidden--visually\" id=\"d98bafb5-7701-4fcd-89a5-c478b0f3efe3\" type=\"checkbox\" ><label for=\"d98bafb5-7701-4fcd-89a5-c478b0f3efe3\" class=\"sk-toggleable__label sk-toggleable__label-arrow\">cat</label><div class=\"sk-toggleable__content\"><pre>Index([&#x27;Occupation&#x27;, &#x27;Annual_Income&#x27;, &#x27;Num_of_Loan&#x27;, &#x27;Type_of_Loan&#x27;,\n",
       "       &#x27;Num_of_Delayed_Payment&#x27;, &#x27;Changed_Credit_Limit&#x27;, &#x27;Credit_Mix&#x27;,\n",
       "       &#x27;Outstanding_Debt&#x27;, &#x27;Payment_of_Min_Amount&#x27;, &#x27;Amount_invested_monthly&#x27;,\n",
       "       &#x27;Payment_Behaviour&#x27;, &#x27;Monthly_Balance&#x27;],\n",
       "      dtype=&#x27;object&#x27;)</pre></div></div></div><div class=\"sk-serial\"><div class=\"sk-item\"><div class=\"sk-serial\"><div class=\"sk-item\"><div class=\"sk-estimator sk-toggleable\"><input class=\"sk-toggleable__control sk-hidden--visually\" id=\"d77a9b9e-4f77-4ebd-941a-d6af330d1a83\" type=\"checkbox\" ><label for=\"d77a9b9e-4f77-4ebd-941a-d6af330d1a83\" class=\"sk-toggleable__label sk-toggleable__label-arrow\">SimpleImputer</label><div class=\"sk-toggleable__content\"><pre>SimpleImputer(strategy=&#x27;most_frequent&#x27;)</pre></div></div></div><div class=\"sk-item\"><div class=\"sk-estimator sk-toggleable\"><input class=\"sk-toggleable__control sk-hidden--visually\" id=\"fa38505d-1e5c-4507-8e90-8fd69d53f95c\" type=\"checkbox\" ><label for=\"fa38505d-1e5c-4507-8e90-8fd69d53f95c\" class=\"sk-toggleable__label sk-toggleable__label-arrow\">OneHotEncoder</label><div class=\"sk-toggleable__content\"><pre>OneHotEncoder(handle_unknown=&#x27;ignore&#x27;)</pre></div></div></div></div></div></div></div></div></div></div><div class=\"sk-item\"><div class=\"sk-estimator sk-toggleable\"><input class=\"sk-toggleable__control sk-hidden--visually\" id=\"57be6ef1-bf1c-4688-9b19-d9a66df58be9\" type=\"checkbox\" ><label for=\"57be6ef1-bf1c-4688-9b19-d9a66df58be9\" class=\"sk-toggleable__label sk-toggleable__label-arrow\">RandomForestClassifier</label><div class=\"sk-toggleable__content\"><pre>RandomForestClassifier(random_state=42)</pre></div></div></div></div></div></div></div>"
      ],
      "text/plain": [
       "Pipeline(steps=[('preprocessor',\n",
       "                 ColumnTransformer(transformers=[('num',\n",
       "                                                  Pipeline(steps=[('imputer',\n",
       "                                                                   SimpleImputer()),\n",
       "                                                                  ('scaler',\n",
       "                                                                   StandardScaler())]),\n",
       "                                                  Index(['Age', 'Monthly_Inhand_Salary', 'Num_Bank_Accounts', 'Num_Credit_Card',\n",
       "       'Interest_Rate', 'Delay_from_due_date', 'Num_Credit_Inquiries',\n",
       "       'Credit_Utilization_Ratio', 'Credit_History_Age',\n",
       "       'Total_EMI_per_month'...\n",
       "                                                                   OneHotEncoder(handle_unknown='ignore'))]),\n",
       "                                                  Index(['Occupation', 'Annual_Income', 'Num_of_Loan', 'Type_of_Loan',\n",
       "       'Num_of_Delayed_Payment', 'Changed_Credit_Limit', 'Credit_Mix',\n",
       "       'Outstanding_Debt', 'Payment_of_Min_Amount', 'Amount_invested_monthly',\n",
       "       'Payment_Behaviour', 'Monthly_Balance'],\n",
       "      dtype='object'))])),\n",
       "                ('classifier', RandomForestClassifier(random_state=42))])"
      ]
     },
     "execution_count": 41,
     "metadata": {},
     "output_type": "execute_result"
    }
   ],
   "source": [
    "from sklearn import set_config\n",
    "set_config(display='diagram')\n",
    "model"
   ]
  },
  {
   "cell_type": "code",
   "execution_count": null,
   "id": "f678d9db",
   "metadata": {},
   "outputs": [],
   "source": []
  }
 ],
 "metadata": {
  "kernelspec": {
   "display_name": "Python 3 (ipykernel)",
   "language": "python",
   "name": "python3"
  },
  "language_info": {
   "codemirror_mode": {
    "name": "ipython",
    "version": 3
   },
   "file_extension": ".py",
   "mimetype": "text/x-python",
   "name": "python",
   "nbconvert_exporter": "python",
   "pygments_lexer": "ipython3",
   "version": "3.9.13"
  }
 },
 "nbformat": 4,
 "nbformat_minor": 5
}
